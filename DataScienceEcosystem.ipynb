{
  "metadata": {
    "kernelspec": {
      "name": "python",
      "display_name": "Python (Pyodide)",
      "language": "python"
    },
    "language_info": {
      "codemirror_mode": {
        "name": "python",
        "version": 3
      },
      "file_extension": ".py",
      "mimetype": "text/x-python",
      "name": "python",
      "nbconvert_exporter": "python",
      "pygments_lexer": "ipython3",
      "version": "3.8"
    }
  },
  "nbformat_minor": 5,
  "nbformat": 4,
  "cells": [
    {
      "id": "e1f4ebc8-6a3c-4dfa-a0d7-16edcc542822",
      "cell_type": "markdown",
      "source": "# Data Science Tools and Ecosystem",
      "metadata": {}
    },
    {
      "id": "bdc5f648-091b-4c12-89f4-117e97db4efc",
      "cell_type": "markdown",
      "source": "In this notebook, Data Science Tools and Ecosystem are summarized.",
      "metadata": {}
    },
    {
      "id": "b9fc4cf0-e85d-4556-847f-084d1e812080",
      "cell_type": "markdown",
      "source": "**Objectives:**\n* List popular languages for Data Science.\n* Identify commonly used libraries in Data Science.\n* Name popular Data Science tools.\n* Evaluate arithmetic expressions in Python.\n* Understand the process of sharing Jupyter Notebooks on GitHub.",
      "metadata": {}
    },
    {
      "id": "d67b957a-8bd8-4294-af3f-bd87718150d4",
      "cell_type": "markdown",
      "source": "Some of the popular languages that Data Scientists use are:\n1. Python\n2. R\n3. SQL\n4. Julia",
      "metadata": {}
    },
    {
      "id": "96f0dbe8-e859-4f92-975b-c01a2fa5269a",
      "cell_type": "markdown",
      "source": "Some of the commonly used libraries used by Data Scientists include:\n1. NumPy\n2. Pandas\n3. Matplotlib\n4. Scikit-learn",
      "metadata": {}
    },
    {
      "id": "d6bcc7e9-2d5e-467d-8d96-ea529ee95cc6",
      "cell_type": "markdown",
      "source": "| Data Science Tools |\n|--------------------|\n| Jupyter Notebook   |\n| RStudio            |\n| Apache Zeppelin    |",
      "metadata": {}
    },
    {
      "id": "9d927c7a-0513-4bd8-a3ad-26208026243d",
      "cell_type": "markdown",
      "source": "### Below are a few examples of evaluating arithmetic expressions in Python.",
      "metadata": {}
    },
    {
      "id": "91c03817-167a-473a-84a6-9bf1471b2869",
      "cell_type": "code",
      "source": "# This a simple arithmetic expression to multiply then add integers.\n(3 * 4) + 5",
      "metadata": {
        "trusted": true
      },
      "outputs": [
        {
          "execution_count": 1,
          "output_type": "execute_result",
          "data": {
            "text/plain": "17"
          },
          "metadata": {}
        }
      ],
      "execution_count": 1
    },
    {
      "id": "c8d1b5c8-785b-4773-a5a2-18d27f7f927c",
      "cell_type": "code",
      "source": "# This will convert 200 minutes to hours by diving by 60.\nminutes = 200\nhours = minutes / 60\nhours",
      "metadata": {
        "trusted": true
      },
      "outputs": [
        {
          "execution_count": 2,
          "output_type": "execute_result",
          "data": {
            "text/plain": "3.3333333333333335"
          },
          "metadata": {}
        }
      ],
      "execution_count": 2
    },
    {
      "id": "02a52989-840e-4162-9f4a-35fe77a504f3",
      "cell_type": "markdown",
      "source": "## Author\nFurqan Ahmad Qureshi",
      "metadata": {}
    }
  ]
}